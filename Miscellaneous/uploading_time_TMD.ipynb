{
 "cells": [
  {
   "cell_type": "code",
   "execution_count": null,
   "id": "93a88ad2-1451-4acd-998b-50723e98c25e",
   "metadata": {},
   "outputs": [],
   "source": [
    "# Sam Brown, Zachary Katz\n",
    "# Goal: Troubleshoot time for pulling tide data\n",
    "\n",
    "import pyTMD\n",
    "\n",
    "import my_lib.funcs\n",
    "\n",
    "import util.coordinate_transforms\n",
    "\n",
    "import Tides\n",
    "\n",
    "import time\n",
    "\n",
    "import pandas as pd\n",
    "import numpy as np\n",
    "import datetime"
   ]
  },
  {
   "cell_type": "code",
   "execution_count": null,
   "id": "50fe01a8-167e-412e-8796-cd029b7d5460",
   "metadata": {},
   "outputs": [],
   "source": [
    "# Set path to event files\n",
    "evts_path = \"/Users/sambrown04/Documents/SURF/Events/2013_2013Events2stas\" \n",
    "\n",
    "# load events in\n",
    "events_list = my_lib.funcs.load_evt(evts_path)"
   ]
  },
  {
   "cell_type": "code",
   "execution_count": 4,
   "id": "378c720d-24ac-416d-bf7e-7c767ba091f7",
   "metadata": {},
   "outputs": [],
   "source": [
    "feat = my_lib.funcs.extract_event_features(events_list)"
   ]
  },
  {
   "cell_type": "code",
   "execution_count": 5,
   "id": "57d7e68a-ad4f-4b4a-8bbe-9ec67f73129b",
   "metadata": {},
   "outputs": [],
   "source": [
    "# first let us make a list of events with only gz stations\n",
    "gz_df = pd.DataFrame(columns = [\"station\", \"pre-slip_area\", \"slip_severity\", \"peak_time\", \"total_delta\", \"start_time\"])\n",
    "\n",
    "for i, event in enumerate(feat):\n",
    "\n",
    "    for _,row in event.iterrows():\n",
    "\n",
    "        # print(row['station'][0:2])\n",
    "        if row['station'][0:2] == \"gz\":\n",
    "            \n",
    "            gz_df.loc[len(gz_df)] = row"
   ]
  },
  {
   "cell_type": "code",
   "execution_count": 6,
   "id": "3a42b85a-3583-4372-a76d-7c4e28f6434e",
   "metadata": {},
   "outputs": [],
   "source": [
    "# get average x and y cor and lat lon for the gz stations\n",
    "# need a list of x cors and a list of y cors\n",
    "x_cors = []\n",
    "y_cors = []\n",
    "\n",
    "pre = 'gz'\n",
    "numbers = ['01','02','03','04','05','12','13','14','15','16','17','18'] # had to change as data frame did not have some of the stations?\n",
    "    \n",
    "for num in numbers:\n",
    "    station = f\"{pre}{num}\"\n",
    "\n",
    "    x_col = f\"{station}x\"\n",
    "    y_col = f\"{station}y\"\n",
    "    \n",
    "    # loop through events to get first instance station is transmitting\n",
    "    for i, event in enumerate(events_list):\n",
    "        if not event[x_col].isna().any():# make sure location is transmitting\n",
    "            # get first instance of coordinates\n",
    "            x_cors.append(event.at[0, x_col]) \n",
    "            y_cors.append(event.at[0,y_col])\n",
    "            break"
   ]
  },
  {
   "cell_type": "code",
   "execution_count": 7,
   "id": "cc3fd750-05a5-4500-805e-081aa5007ce1",
   "metadata": {},
   "outputs": [],
   "source": [
    "avg_x_cor = sum(x_cors) / len(x_cors)\n",
    "avg_y_cor = sum(y_cors) / len(y_cors)"
   ]
  },
  {
   "cell_type": "code",
   "execution_count": null,
   "id": "3fbf4062-67e5-4cd6-abf6-6c12845f12fd",
   "metadata": {},
   "outputs": [],
   "source": [
    "# Setup model\n",
    "# Suspect this line creating the model is causing the long runtime. We are defining it here and passing it into the tidal_elevation function\n",
    "\n",
    "### USER DEFINED PATH TO TIDE MODEL ###\n",
    "tide_dir = \"/Users/sambrown04/Documents/SURF\"\n",
    "#######################################\n",
    "\n",
    "tide_mod = \"CATS2008-v2023\"\n",
    "\n",
    "tides = Tides.Tide(tide_mod, tide_dir)\n",
    "\n",
    "model1 = pyTMD.io.model(tide_dir, format=\"netcdf\").elevation(tide_mod)\n",
    "constituents = pyTMD.io.OTIS.read_constants(\n",
    "    model1.grid_file,\n",
    "    model1.model_file,\n",
    "    model1.projection,\n",
    "    type=model1.type,\n",
    "    grid=model1.format,\n",
    ")"
   ]
  },
  {
   "cell_type": "code",
   "execution_count": 26,
   "id": "b6f84678-2c93-47a4-967d-f822a4de71a5",
   "metadata": {},
   "outputs": [],
   "source": [
    "# function that takes the x_cors and y_cors and time and returns the tide.\n",
    "\n",
    "\n",
    "def get_tide_height(days, x_cor, y_cor, start_time):\n",
    "    \"\"\" Get tide height for <days> days from initial date <start_time>, at the coordinates <x_cor> and <y_cor>.\n",
    "\n",
    "    Parameters\n",
    "    ----------\n",
    "    days : int\n",
    "        Number of days to calculate tide height for.\n",
    "    x_cor : float\n",
    "        PS71 x coordinate of tide calculation\n",
    "    y_cor : _type_\n",
    "        PS71 y coordinate of tide calculation\n",
    "    start_time : _type_\n",
    "        Starting date in %Y-%m-%d %H:%M:%S format\n",
    "\n",
    "    Returns\n",
    "    -------\n",
    "    list[float]\n",
    "        Tide heights\n",
    "    \"\"\"\n",
    "\n",
    "    spacing = 1\n",
    "\n",
    "    HR_PER_DAY = 24\n",
    "    MIN_PER_HR = 60\n",
    "\n",
    "    dates_timeseries = []\n",
    "    initial_time = datetime.datetime.strptime(start_time, \"%Y-%m-%d %H:%M:%S\")\n",
    "    for i in range(days * HR_PER_DAY * MIN_PER_HR // spacing):  # 30 days * 24 hr/day * 60 min/hr * 1/10 calculations/min\n",
    "        dates_timeseries.append(initial_time + datetime.timedelta(minutes=spacing * i))\n",
    "\n",
    "    #convert to lon and lat\n",
    "    lon, lat = util.coordinate_transforms.xy2ll(x_cor, y_cor)\n",
    "    # print(lon, lat)\n",
    "\n",
    "    \n",
    "    tides = Tides.Tide(tide_mod, tide_dir)\n",
    "    \n",
    "    start_time = time.time()\n",
    "    tide_results = tides.tidal_elevation(\n",
    "        model1,\n",
    "        constituents,\n",
    "        [lon],\n",
    "        [lat],\n",
    "        dates_timeseries,\n",
    "    ).data.T[0]\n",
    "    end_time = time.time()\n",
    "    elapsed_time = end_time - start_time\n",
    "    print(f\"Elapsed time: {elapsed_time} seconds\")\n",
    "    \n",
    "    return tide_results\n",
    "    \n",
    "    \n",
    "    \n",
    "    #HR_PER_DAY * MIN_PER_HR // spacing\n",
    "    "
   ]
  },
  {
   "cell_type": "code",
   "execution_count": 27,
   "id": "070cbaba",
   "metadata": {},
   "outputs": [
    {
     "name": "stdout",
     "output_type": "stream",
     "text": [
      "The line_profiler extension is already loaded. To reload it, use:\n",
      "  %reload_ext line_profiler\n",
      "Elapsed time: 38.12063145637512 seconds\n"
     ]
    },
    {
     "name": "stdout",
     "output_type": "stream",
     "text": [
      "Timer unit: 1e-09 s\n",
      "\n",
      "Total time: 38.1235 s\n",
      "File: /tmp/ipykernel_33510/365884760.py\n",
      "Function: get_tide_height at line 4\n",
      "\n",
      "Line #      Hits         Time  Per Hit   % Time  Line Contents\n",
      "==============================================================\n",
      "     4                                           def get_tide_height(days, x_cor, y_cor, start_time):\n",
      "     5                                               \"\"\" Get tide height for <days> days from initial date <start_time>, at the coordinates <x_cor> and <y_cor>.\n",
      "     6                                           \n",
      "     7                                               Parameters\n",
      "     8                                               ----------\n",
      "     9                                               days : int\n",
      "    10                                                   Number of days to calculate tide height for.\n",
      "    11                                               x_cor : float\n",
      "    12                                                   PS71 x coordinate of tide calculation\n",
      "    13                                               y_cor : _type_\n",
      "    14                                                   PS71 y coordinate of tide calculation\n",
      "    15                                               start_time : _type_\n",
      "    16                                                   Starting date in %Y-%m-%d %H:%M:%S format\n",
      "    17                                           \n",
      "    18                                               Returns\n",
      "    19                                               -------\n",
      "    20                                               list[float]\n",
      "    21                                                   Tide heights\n",
      "    22                                               \"\"\"\n",
      "    23                                               # just going to do like example for now and just pull first val from list for simplicity.\n",
      "    24         1        741.0    741.0      0.0      spacing = 1\n",
      "    25                                           \n",
      "    26         1        150.0    150.0      0.0      HR_PER_DAY = 24\n",
      "    27         1        164.0    164.0      0.0      MIN_PER_HR = 60\n",
      "    28                                           \n",
      "    29         1        139.0    139.0      0.0      dates_timeseries = []\n",
      "    30         1      94426.0  94426.0      0.0      initial_time = datetime.datetime.strptime(start_time, \"%Y-%m-%d %H:%M:%S\")\n",
      "    31      1441     222861.0    154.7      0.0      for i in range(days * HR_PER_DAY * MIN_PER_HR // spacing):  # 30 days * 24 hr/day * 60 min/hr * 1/10 calculations/min\n",
      "    32      1440    1388859.0    964.5      0.0          dates_timeseries.append(initial_time + datetime.timedelta(minutes=spacing * i))\n",
      "    33                                           \n",
      "    34                                               #convert to lon and lat\n",
      "    35         1     907645.0 907645.0      0.0      lon, lat = util.coordinate_transforms.xy2ll(x_cor, y_cor)\n",
      "    36                                               # print(lon, lat)\n",
      "    37                                           \n",
      "    38                                           \n",
      "    39         1       6231.0   6231.0      0.0      tides = Tides.Tide(tide_mod, tide_dir)\n",
      "    40                                           \n",
      "    41         1       1522.0   1522.0      0.0      start_time = time.time()\n",
      "    42         3        4e+10    1e+10    100.0      tide_results = tides.tidal_elevation(\n",
      "    43         1       1093.0   1093.0      0.0          model1,\n",
      "    44         1        357.0    357.0      0.0          constituents,\n",
      "    45         1        329.0    329.0      0.0          [lon],\n",
      "    46         1        136.0    136.0      0.0          [lat],\n",
      "    47         1        111.0    111.0      0.0          dates_timeseries,\n",
      "    48         1      60943.0  60943.0      0.0      ).data.T[0]\n",
      "    49         1       2355.0   2355.0      0.0      end_time = time.time()\n",
      "    50         1        694.0    694.0      0.0      elapsed_time = end_time - start_time\n",
      "    51         1     242686.0 242686.0      0.0      print(f\"Elapsed time: {elapsed_time} seconds\")\n",
      "    52                                           \n",
      "    53         1       1486.0   1486.0      0.0      return tide_results\n",
      "    54                                           \n",
      "    55                                           \n",
      "    56                                           \n",
      "    57                                               #HR_PER_DAY * MIN_PER_HR // spacing"
     ]
    }
   ],
   "source": [
    "# Line profiler Jupyter extension - outputs how long each individual line of code takes to run\n",
    "%load_ext line_profiler\n",
    "\n",
    "%lprun -f get_tide_height get_tide_height(1, avg_x_cor, avg_y_cor, '2013-05-19 07:37:15')"
   ]
  },
  {
   "cell_type": "code",
   "execution_count": 30,
   "id": "0129f5ec",
   "metadata": {},
   "outputs": [
    {
     "name": "stdout",
     "output_type": "stream",
     "text": [
      "Elapsed time: 41.24638605117798 seconds\n",
      "CPU times: user 38 s, sys: 3.2 s, total: 41.2 s\n",
      "Wall time: 41.2 s\n",
      "Elapsed time: 45.862751483917236 seconds\n",
      "CPU times: user 46.7 s, sys: 3.35 s, total: 50 s\n",
      "Wall time: 46.3 s\n"
     ]
    },
    {
     "data": {
      "text/plain": [
       "array([19.62466491, 19.37249167, 19.11957894, ..., 49.47227695,\n",
       "       49.24247156, 49.01142783], shape=(525600,))"
      ]
     },
     "execution_count": 30,
     "metadata": {},
     "output_type": "execute_result"
    }
   ],
   "source": [
    "# Time functions using the iPython magic time command\n",
    "%time get_tide_height(1, avg_x_cor, avg_y_cor, '2013-05-19 07:37:15')\n",
    "%time get_tide_height(365, avg_x_cor, avg_y_cor, '2013-05-19 07:37:15')"
   ]
  }
 ],
 "metadata": {
  "kernelspec": {
   "display_name": "Python [conda env:anaconda3]",
   "language": "python",
   "name": "conda-env-anaconda3-py"
  },
  "language_info": {
   "codemirror_mode": {
    "name": "ipython",
    "version": 3
   },
   "file_extension": ".py",
   "mimetype": "text/x-python",
   "name": "python",
   "nbconvert_exporter": "python",
   "pygments_lexer": "ipython3",
   "version": "3.11.5"
  }
 },
 "nbformat": 4,
 "nbformat_minor": 5
}
