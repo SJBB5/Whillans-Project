{
 "cells": [
  {
   "cell_type": "code",
   "execution_count": 76,
   "id": "99e950ef-8170-4888-817f-941dc9c140d1",
   "metadata": {},
   "outputs": [],
   "source": [
    "# Sam Brown\n",
    "# sam_brown@mines.edu\n",
    "# June 27 2025\n",
    "# Goal: Use a regular neural network with our new features (tidal amplitudes between events) to predict slip size\n",
    "\n",
    "import sys\n",
    "sys.path.append(\"/Users/sambrown04/Documents/SURF/whillans-surf/notebooks/SURF\")\n",
    "\n",
    "import pandas as pd\n",
    "import numpy as np\n",
    "import torch\n",
    "import torch.nn as nn\n",
    "import torch.optim as optim\n",
    "from sklearn.model_selection import train_test_split\n",
    "from sklearn.preprocessing import StandardScaler\n",
    "from sklearn.metrics import r2_score\n",
    "\n",
    "df = pd.read_csv(\"/Users/sambrown04/Documents/SURF/Preproc_data/upd10-18.csv\")\n",
    "df = df[604:3001] # Adjust for missing data areas if needed"
   ]
  },
  {
   "cell_type": "code",
   "execution_count": 78,
   "id": "f307bed6-8317-4163-83f6-2cfa7f28e4ac",
   "metadata": {},
   "outputs": [],
   "source": [
    "# Will do a little bit of preprocessing to see how including more in depth H,L \n",
    "sequence = [1 if x == 1 else -1 for x in df['high_t_evt']]\n",
    "\n",
    "df['cumult'] = np.cumsum(sequence)\n",
    "df['hpastone'] = df['high_t_evt'].shift(1)\n",
    "df['hpasttwo'] = df['high_t_evt'].shift(2)\n",
    "df['hpastthree'] = df['high_t_evt'].shift(3)\n",
    "\n",
    "df =  df[610:3001]"
   ]
  },
  {
   "cell_type": "code",
   "execution_count": 176,
   "id": "294901fe-a959-49b3-a7ec-382514e1a705",
   "metadata": {},
   "outputs": [],
   "source": [
    "# Features and target\n",
    "X = df[['tide_deriv', 'time_since', 'high_t_evt', 'tide_height', 'A_diurn', 'A_semidiurn', 'sev_stds', 'cumult', 'hpastone', 'disp_standardized', 'r2_standardized', 'slope_standardized']]\n",
    "y =df['slip_size_standardized'].values.reshape(-1,1)\n",
    " \n",
    "# Split\n",
    "X_train, X_test, y_train, y_test = train_test_split(X,y,test_size=.2, random_state = 42)\n",
    "\n",
    "# Standardize \n",
    "X_scaler = StandardScaler()\n",
    "X_train_scaled = X_scaler.fit_transform(X_train)\n",
    "X_test_scaled = X_scaler.transform(X_test)\n",
    "\n",
    "y_scaler = StandardScaler()\n",
    "y_train_scaled = y_scaler.fit_transform(y_train)\n",
    "y_test_scaled = y_scaler.transform(y_test)\n",
    "\n",
    "# Convert to PyTorch tensors\n",
    "X_train_tensor = torch.tensor(X_train_scaled, dtype=torch.float32)\n",
    "y_train_tensor = torch.tensor(y_train_scaled, dtype=torch.float32)\n",
    "\n",
    "X_test_tensor = torch.tensor(X_test_scaled, dtype=torch.float32)\n",
    "y_test_tensor = torch.tensor(y_test_scaled, dtype=torch.float32)"
   ]
  },
  {
   "cell_type": "code",
   "execution_count": 178,
   "id": "8120b1ef-5b66-45d8-a3c7-1ce4c72067c5",
   "metadata": {},
   "outputs": [],
   "source": [
    "class Net(nn.Module):\n",
    "    def __init__(self):\n",
    "        super(Net,self).__init__()\n",
    "        self.fc1 = nn.Linear(12, 64)\n",
    "        self.fc2 = nn.Linear(64, 64)\n",
    "        self.fc3 = nn.Linear(64,32)\n",
    "        self.output = nn.Linear(32,1)\n",
    "        \n",
    "    def forward(self,x):\n",
    "        x = torch.relu(self.fc1(x))\n",
    "        x = torch.relu(self.fc2(x))\n",
    "        x = torch.relu(self.fc3(x))\n",
    "        x = self.output(x) # regressing so no activation\n",
    "        return x"
   ]
  },
  {
   "cell_type": "code",
   "execution_count": 180,
   "id": "aab9ac83-7792-4b13-bd24-d358e2e332a0",
   "metadata": {},
   "outputs": [],
   "source": [
    "model = Net()\n",
    "criterion = nn.MSELoss()\n",
    "optimizer = optim.Adam(model.parameters(), lr = .01)"
   ]
  },
  {
   "cell_type": "code",
   "execution_count": 182,
   "id": "304d5d9d-8afe-4cfb-92a4-1aa35e3a430b",
   "metadata": {},
   "outputs": [
    {
     "name": "stdout",
     "output_type": "stream",
     "text": [
      "Epoch [20/200], Loss: 0.1201\n",
      "Epoch [40/200], Loss: 0.0750\n",
      "Epoch [60/200], Loss: 0.0561\n",
      "Epoch [80/200], Loss: 0.0422\n",
      "Epoch [100/200], Loss: 0.0344\n",
      "Epoch [120/200], Loss: 0.0330\n",
      "Epoch [140/200], Loss: 0.0265\n",
      "Epoch [160/200], Loss: 0.0234\n",
      "Epoch [180/200], Loss: 0.0244\n",
      "Epoch [200/200], Loss: 0.0205\n"
     ]
    }
   ],
   "source": [
    "# Train\n",
    "epochs = 200\n",
    "for epoch in range(epochs):\n",
    "    model.train()\n",
    "    optimizer.zero_grad() # Clears grad\n",
    "\n",
    "    # predictions and loss\n",
    "    outputs = model(X_train_tensor)\n",
    "    loss = criterion(outputs, y_train_tensor)\n",
    "\n",
    "    #Backprop\n",
    "    loss.backward()\n",
    "\n",
    "    #Update\n",
    "    optimizer.step()\n",
    "\n",
    "    if (epoch+1) % 20 == 0: # Print update to ensure no problems\n",
    "        print(f'Epoch [{epoch+1}/{epochs}], Loss: {loss.item():.4f}')"
   ]
  },
  {
   "cell_type": "code",
   "execution_count": 184,
   "id": "e94b25a1-f151-4518-9b43-bb52a18931a3",
   "metadata": {},
   "outputs": [
    {
     "name": "stdout",
     "output_type": "stream",
     "text": [
      "0.9434876441955566\n"
     ]
    }
   ],
   "source": [
    "model.eval()\n",
    "with torch.no_grad():\n",
    "    y_pred_scaled = model(X_test_tensor)\n",
    "    y_pred = y_scaler.inverse_transform(y_pred_scaled.detach().numpy())\n",
    "    y_test_orig = y_scaler.inverse_transform(y_test_tensor.detach().numpy())\n",
    "r2 = r2_score(y_test_orig, y_pred)\n",
    "print(r2)\n"
   ]
  }
 ],
 "metadata": {
  "kernelspec": {
   "display_name": "Python [conda env:base] *",
   "language": "python",
   "name": "conda-base-py"
  },
  "language_info": {
   "codemirror_mode": {
    "name": "ipython",
    "version": 3
   },
   "file_extension": ".py",
   "mimetype": "text/x-python",
   "name": "python",
   "nbconvert_exporter": "python",
   "pygments_lexer": "ipython3",
   "version": "3.12.2"
  }
 },
 "nbformat": 4,
 "nbformat_minor": 5
}
