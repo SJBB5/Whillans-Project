{
 "cells": [
  {
   "cell_type": "code",
   "execution_count": 9,
   "id": "d7d0900f-36ba-4975-9d99-06d85db18250",
   "metadata": {},
   "outputs": [
    {
     "name": "stdout",
     "output_type": "stream",
     "text": [
      "\n",
      "Call:\n",
      "lm(formula = total_delta ~ tide_height + tide_change + mins_since + \n",
      "    h_event, data = data)\n",
      "\n",
      "Residuals:\n",
      "      Min        1Q    Median        3Q       Max \n",
      "-0.102280 -0.015282  0.000734  0.016438  0.063846 \n",
      "\n",
      "Coefficients:\n",
      "              Estimate Std. Error t value Pr(>|t|)    \n",
      "(Intercept)  1.556e-01  2.929e-03  53.110   <2e-16 ***\n",
      "tide_height  2.163e-04  2.309e-05   9.368   <2e-16 ***\n",
      "tide_change -9.864e-02  4.219e-03 -23.382   <2e-16 ***\n",
      "mins_since   2.112e-04  2.686e-06  78.636   <2e-16 ***\n",
      "h_event     -4.088e-03  2.345e-03  -1.744   0.0814 .  \n",
      "---\n",
      "Signif. codes:  0 ‘***’ 0.001 ‘**’ 0.01 ‘*’ 0.05 ‘.’ 0.1 ‘ ’ 1\n",
      "\n",
      "Residual standard error: 0.02393 on 1638 degrees of freedom\n",
      "Multiple R-squared:  0.8852,\tAdjusted R-squared:  0.8849 \n",
      "F-statistic:  3157 on 4 and 1638 DF,  p-value: < 2.2e-16\n",
      "\n",
      "SECOND OUTPUT\n",
      "\n",
      "Call:\n",
      "lm(formula = total_delta ~ mins_since, data = data)\n",
      "\n",
      "Residuals:\n",
      "      Min        1Q    Median        3Q       Max \n",
      "-0.110647 -0.017874  0.000842  0.018993  0.072454 \n",
      "\n",
      "Coefficients:\n",
      "             Estimate Std. Error t value Pr(>|t|)    \n",
      "(Intercept) 1.781e-01  2.191e-03   81.29   <2e-16 ***\n",
      "mins_since  2.017e-04  2.182e-06   92.43   <2e-16 ***\n",
      "---\n",
      "Signif. codes:  0 ‘***’ 0.001 ‘**’ 0.01 ‘*’ 0.05 ‘.’ 0.1 ‘ ’ 1\n",
      "\n",
      "Residual standard error: 0.02832 on 1641 degrees of freedom\n",
      "Multiple R-squared:  0.8389,\tAdjusted R-squared:  0.8388 \n",
      "F-statistic:  8543 on 1 and 1641 DF,  p-value: < 2.2e-16\n",
      "\n"
     ]
    }
   ],
   "source": [
    "import pandas as pd\n",
    "from rpy2.robjects import r, pandas2ri\n",
    "import rpy2.robjects as ro\n",
    "from rpy2.robjects.conversion import localconverter\n",
    "\n",
    "# Load and clean\n",
    "df = pd.read_csv(\"/Users/sambrown04/Documents/SURF/whillans-surf/notebooks/SURF/neural_nets/averages_events_2011-13.csv\", parse_dates=[\"start_time\"])\n",
    "df = df.iloc[1:]  # Drop NaNs \n",
    "\n",
    "# Convert pandas to R DataFrame\n",
    "with localconverter(ro.default_converter + pandas2ri.converter):\n",
    "    r_df = ro.conversion.py2rpy(df)\n",
    "\n",
    "ro.globalenv[\"data\"] = r_df\n",
    "\n",
    "# Run regression onfeatures\n",
    "r('model <- lm(total_delta ~ tide_height + tide_change + mins_since + h_event, data=data)')\n",
    "r('summary_output <- summary(model)')\n",
    "r('print(summary_output)')\n",
    "\n",
    "print(\"SECOND OUTPUT\")\n",
    "r('model <- lm(total_delta ~ mins_since, data=data)')\n",
    "r('summary_output <- summary(model)')\n",
    "r('print(summary_output)')"
   ]
  },
  {
   "cell_type": "markdown",
   "id": "50040c4a-451f-4065-8913-3b4bce7a8134",
   "metadata": {},
   "source": [
    "All predictors significant. Large F-Statistic. R^2 is good but other models (nn, GBoost) outperform in our case."
   ]
  }
 ],
 "metadata": {
  "kernelspec": {
   "display_name": "Python [conda env:base] *",
   "language": "python",
   "name": "conda-base-py"
  },
  "language_info": {
   "codemirror_mode": {
    "name": "ipython",
    "version": 3
   },
   "file_extension": ".py",
   "mimetype": "text/x-python",
   "name": "python",
   "nbconvert_exporter": "python",
   "pygments_lexer": "ipython3",
   "version": "3.12.2"
  }
 },
 "nbformat": 4,
 "nbformat_minor": 5
}
