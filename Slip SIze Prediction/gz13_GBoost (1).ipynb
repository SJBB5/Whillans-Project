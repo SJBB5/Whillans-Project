{
 "cells": [
  {
   "cell_type": "code",
   "execution_count": 31,
   "id": "e5f16a93-1921-4899-b3b6-8349bf189be6",
   "metadata": {},
   "outputs": [],
   "source": [
    "# Sam Brown\n",
    "# Sam_brown@mines.edu\n",
    "# June 24\n",
    "# Goal: Gradient boost to predict slip size, XGboost\n",
    "\n",
    "import sys\n",
    "sys.path.append(\"/Users/sambrown04/Documents/SURF/whillans-surf/notebooks/SURF\")\n",
    "\n",
    "import pandas as pd\n",
    "import numpy as np\n",
    "from xgboost import XGBRegressor\n",
    "from sklearn.model_selection import train_test_split, GridSearchCV\n",
    "from sklearn.metrics import mean_squared_error, r2_score\n",
    "\n",
    "import matplotlib.pyplot as plt\n",
    "\n",
    "# Load data\n",
    "df = pd.read_csv(\"/Users/sambrown04/Documents/SURF/Preproc_data/averages_events_2011-13.csv\", parse_dates=[\"start_time\"])\n",
    "df = df.iloc[1:] # Cut off "
   ]
  },
  {
   "cell_type": "code",
   "execution_count": 21,
   "id": "a14afb15-32c1-48f3-b5d1-06e3eb5e0727",
   "metadata": {},
   "outputs": [],
   "source": [
    "# Predictors and target\n",
    "X = df[[ 'tide_height', 'tide_change', 'mins_since', 'h_event']]\n",
    "y = df['total_delta'].values.reshape(-1,1)\n",
    "\n",
    "# Train test split\n",
    "X_train, X_test, y_train, y_test = train_test_split(X, y, test_size = .2, random_state = 42)"
   ]
  },
  {
   "cell_type": "code",
   "execution_count": 23,
   "id": "1ae8fa3c-85e1-4d2b-9c7a-b515492a30d3",
   "metadata": {},
   "outputs": [],
   "source": [
    "# Model\n",
    "\n",
    "xgb = XGBRegressor(\n",
    "    n_estimators = 100,\n",
    "    learning_rate = .1,\n",
    "    max_depth = 3,\n",
    "    subsample=.8,\n",
    "    colsample_bytree=1,\n",
    "    random_state = 42\n",
    ")"
   ]
  },
  {
   "cell_type": "code",
   "execution_count": 25,
   "id": "1f3eb2e9-1161-4f9b-b167-5c0751d7f7ae",
   "metadata": {},
   "outputs": [
    {
     "name": "stdout",
     "output_type": "stream",
     "text": [
      "RMSE: 0.0213\n",
      "R2 Score: 0.9164\n"
     ]
    }
   ],
   "source": [
    "# Train\n",
    "xgb.fit(X_train, y_train)\n",
    "\n",
    "# Predict\n",
    "y_pred = xgb.predict(X_test)\n",
    "\n",
    "#Eval\n",
    "mse = mean_squared_error(y_test, y_pred)\n",
    "rmse = np.sqrt(mse)\n",
    "r2 = r2_score(y_test, y_pred)\n",
    "\n",
    "print(f\"RMSE: {rmse:.4f}\")\n",
    "print(f\"R2 Score: {r2:.4f}\")"
   ]
  },
  {
   "cell_type": "code",
   "execution_count": 27,
   "id": "d7b84b83-d17e-4c49-bb2a-56212179463e",
   "metadata": {},
   "outputs": [
    {
     "name": "stdout",
     "output_type": "stream",
     "text": [
      "Fitting 3 folds for each of 48 candidates, totalling 144 fits\n",
      "Best parameters: {'colsample_bytree': 1.0, 'learning_rate': 0.1, 'max_depth': 3, 'n_estimators': 100, 'subsample': 0.8}\n"
     ]
    }
   ],
   "source": [
    "# Tune\n",
    "param_grid = {\n",
    "    'n_estimators': [100,200],\n",
    "    'max_depth':[3,5,7],\n",
    "    'learning_rate': [.01, .1],\n",
    "    'subsample':[.8,1.0],\n",
    "    'colsample_bytree':[.8,1.0]\n",
    "}\n",
    "\n",
    "grid_search = GridSearchCV(\n",
    "    estimator = XGBRegressor(random_state=42),\n",
    "    param_grid = param_grid,\n",
    "    scoring='neg_mean_squared_error',\n",
    "    cv = 3,\n",
    "    verbose = 1,\n",
    "    n_jobs = 1\n",
    ")\n",
    "\n",
    "grid_search.fit(X_train, y_train)\n",
    "print(\"Best parameters:\", grid_search.best_params_)"
   ]
  },
  {
   "cell_type": "code",
   "execution_count": 33,
   "id": "3a8fd7cd-5a70-483f-bc9f-bc3e9feb56de",
   "metadata": {},
   "outputs": [
    {
     "name": "stdout",
     "output_type": "stream",
     "text": [
      "       Feature  Importance\n",
      "2   mins_since    0.879300\n",
      "0  tide_height    0.091523\n",
      "1  tide_change    0.029177\n",
      "3      h_event    0.000000\n"
     ]
    },
    {
     "data": {
      "image/png": "[encoded data removed]",
      "text/plain": [
       "<Figure size 640x480 with 1 Axes>"
      ]
     },
     "metadata": {},
     "output_type": "display_data"
    }
   ],
   "source": [
    "importances = xgb.feature_importances_\n",
    "feature_importance = pd.DataFrame({\n",
    "    \"Feature\": X.columns,\n",
    "    \"Importance\": importances\n",
    "}).sort_values(by=\"Importance\", ascending=False)\n",
    "\n",
    "print(feature_importance)\n",
    "\n",
    "# Plot\n",
    "plt.bar(feature_importance[\"Feature\"], feature_importance[\"Importance\"])\n",
    "plt.ylabel(\"Importance\")\n",
    "plt.title(\"XGBoost Feature Importance\")\n",
    "plt.show()"
   ]
  }
 ],
 "metadata": {
  "kernelspec": {
   "display_name": "Python [conda env:base] *",
   "language": "python",
   "name": "conda-base-py"
  },
  "language_info": {
   "codemirror_mode": {
    "name": "ipython",
    "version": 3
   },
   "file_extension": ".py",
   "mimetype": "text/x-python",
   "name": "python",
   "nbconvert_exporter": "python",
   "pygments_lexer": "ipython3",
   "version": "3.12.2"
  }
 },
 "nbformat": 4,
 "nbformat_minor": 5
}
