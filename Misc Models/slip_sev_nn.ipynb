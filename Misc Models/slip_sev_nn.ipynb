{
 "cells": [
  {
   "cell_type": "code",
   "execution_count": 24,
   "id": "df1d57eb-6d9a-4a93-88b1-57341b4f3abd",
   "metadata": {},
   "outputs": [],
   "source": [
    "# Sam Brown\n",
    "# sam_brown@mines.edu\n",
    "# June 19\n",
    "# Goal: Build neural net to classify \"impulsivitiy\" of slip\n",
    "\n",
    "import sys\n",
    "sys.path.append(\"/Users/sambrown04/Documents/SURF/whillans-surf/notebooks/SURF\")\n",
    "\n",
    "import pandas as pd\n",
    "import torch\n",
    "import torch.nn as nn\n",
    "import torch.optim as optim\n",
    "from sklearn.model_selection import train_test_split\n",
    "from sklearn.preprocessing import StandardScaler\n",
    "from sklearn.metrics import accuracy_score, classification_report, confusion_matrix\n",
    "\n",
    "\n",
    "df = pd.read_csv('averages_events_2011-13')\n",
    "df = df.iloc[1:-1] # account for shift to get mins until feature\n",
    "\n",
    "#Endode out target\n",
    "df['impulsive'] = (df['slip_severity'] > 9* (10 ** -7)).astype(int)"
   ]
  },
  {
   "cell_type": "code",
   "execution_count": 28,
   "id": "aa0f7f20-f2f2-40fd-b111-664954549a0f",
   "metadata": {},
   "outputs": [],
   "source": [
    "# Define Features and Target\n",
    "X = df[['tide_height', 'tide_change', 'mins_since', 'h_event', 'form_factor']]\n",
    "y = df['impulsive'].values.reshape(-1, 1)  # Keep as 0/1\n",
    "\n",
    "# Split to train and test\n",
    "X_train, X_test, y_train, y_test = train_test_split(X, y , test_size=0.2, random_state=42)\n",
    "\n",
    "# Standardize only features\n",
    "scaler = StandardScaler()\n",
    "X_train_scaled = scaler.fit_transform(X_train)\n",
    "X_test_scaled = scaler.transform(X_test)\n",
    "\n",
    "# Convert to PyTorch tensors\n",
    "X_train_tensor = torch.tensor(X_train_scaled, dtype=torch.float32)\n",
    "y_train_tensor = torch.tensor(y_train, dtype=torch.float32)\n",
    "\n",
    "X_test_tensor = torch.tensor(X_test_scaled, dtype=torch.float32)\n",
    "y_test_tensor = torch.tensor(y_test, dtype=torch.float32)\n"
   ]
  },
  {
   "cell_type": "code",
   "execution_count": 30,
   "id": "238708b3-ed4c-4aaa-8835-08e15cc7602a",
   "metadata": {},
   "outputs": [],
   "source": [
    "# Neural net\n",
    "class Net(nn.Module):\n",
    "    def __init__(self):\n",
    "        super(Net,self).__init__()\n",
    "        self.fc1 = nn.Linear(5,20)\n",
    "        self.fc2 = nn.Linear(20,10)\n",
    "        self.fc3 = nn.Linear(10,1)\n",
    "\n",
    "    def forward(self,x):\n",
    "        x = torch.relu(self.fc1(x))\n",
    "        x = torch.relu(self.fc2(x))\n",
    "        x = torch.sigmoid(self.fc3(x)) # sigmoid for classification\n",
    "        return x\n",
    "\n"
   ]
  },
  {
   "cell_type": "code",
   "execution_count": 32,
   "id": "c4f36b60-5ab9-4f7e-8945-d4683399e940",
   "metadata": {},
   "outputs": [],
   "source": [
    "# Instantiate\n",
    "model = Net()\n",
    "criterion = nn.MSELoss()\n",
    "optimizer = optim.Adam(model.parameters(), lr = .01)"
   ]
  },
  {
   "cell_type": "code",
   "execution_count": 34,
   "id": "16888b14-6824-4972-95d9-cffe8d3db3a1",
   "metadata": {},
   "outputs": [
    {
     "name": "stdout",
     "output_type": "stream",
     "text": [
      "Epoch [20/200], Loss: 0.1210\n",
      "Epoch [40/200], Loss: 0.0899\n",
      "Epoch [60/200], Loss: 0.0844\n",
      "Epoch [80/200], Loss: 0.0804\n",
      "Epoch [100/200], Loss: 0.0770\n",
      "Epoch [120/200], Loss: 0.0748\n",
      "Epoch [140/200], Loss: 0.0729\n",
      "Epoch [160/200], Loss: 0.0710\n",
      "Epoch [180/200], Loss: 0.0693\n",
      "Epoch [200/200], Loss: 0.0678\n"
     ]
    }
   ],
   "source": [
    "# Training loop\n",
    "epochs = 200\n",
    "for epoch in range(epochs):\n",
    "    model.train()\n",
    "    optimizer.zero_grad() # Clears grad\n",
    "\n",
    "    # Predictions and loss\n",
    "    outputs = model(X_train_tensor)\n",
    "    loss = criterion(outputs, y_train_tensor)\n",
    "\n",
    "    # Backprop\n",
    "    loss.backward()\n",
    "\n",
    "    # Update params\n",
    "    optimizer.step()\n",
    "    \n",
    "    if (epoch+1) % 20 == 0: \n",
    "        print(f'Epoch [{epoch+1}/{epochs}], Loss: {loss.item():.4f}')"
   ]
  },
  {
   "cell_type": "code",
   "execution_count": 36,
   "id": "4de8c030-21ad-46bb-aaf9-e96c7e3b75ce",
   "metadata": {},
   "outputs": [
    {
     "name": "stdout",
     "output_type": "stream",
     "text": [
      "\n",
      "Confusion Matrix:\n",
      "[[158  16]\n",
      " [ 16 139]]\n",
      "\n",
      "Classification Report:\n",
      "              precision    recall  f1-score   support\n",
      "\n",
      "         0.0       0.91      0.91      0.91       174\n",
      "         1.0       0.90      0.90      0.90       155\n",
      "\n",
      "    accuracy                           0.90       329\n",
      "   macro avg       0.90      0.90      0.90       329\n",
      "weighted avg       0.90      0.90      0.90       329\n",
      "\n",
      "\n",
      "Accuracy: 0.9027355623100304\n"
     ]
    }
   ],
   "source": [
    "model.eval()\n",
    "with torch.no_grad():\n",
    "    y_pred_probs = model(X_test_tensor)  # probabilities from sigmoid\n",
    "    y_pred_labels = (y_pred_probs >= 0.5).int()  # convert to 0 or 1\n",
    "\n",
    "# Convert tensors to numpy arrays for metrics\n",
    "y_pred_labels_np = y_pred_labels.numpy().flatten()\n",
    "y_test_np = y_test_tensor.numpy().flatten()\n",
    "\n",
    "# Print evaluation results\n",
    "print(\"\\nConfusion Matrix:\")\n",
    "print(confusion_matrix(y_test_np, y_pred_labels_np))\n",
    "\n",
    "print(\"\\nClassification Report:\")\n",
    "print(classification_report(y_test_np, y_pred_labels_np))\n",
    "\n",
    "print(\"\\nAccuracy:\", accuracy_score(y_test_np, y_pred_labels_np))"
   ]
  }
 ],
 "metadata": {
  "kernelspec": {
   "display_name": "Python [conda env:base] *",
   "language": "python",
   "name": "conda-base-py"
  },
  "language_info": {
   "codemirror_mode": {
    "name": "ipython",
    "version": 3
   },
   "file_extension": ".py",
   "mimetype": "text/x-python",
   "name": "python",
   "nbconvert_exporter": "python",
   "pygments_lexer": "ipython3",
   "version": "3.12.2"
  }
 },
 "nbformat": 4,
 "nbformat_minor": 5
}
