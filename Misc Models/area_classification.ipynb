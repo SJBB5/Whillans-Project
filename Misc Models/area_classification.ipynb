{
 "cells": [
  {
   "cell_type": "code",
   "execution_count": 1,
   "id": "ae446ee7-2705-4822-a895-ec8244c386af",
   "metadata": {},
   "outputs": [],
   "source": [
    "# Sam Brown\n",
    "# sam_brown@mines.edu\n",
    "# Description: Classifying high vs low pre-slip area events using residual data from GPS stations.\n",
    "# Date: 2025-03-26\n",
    "\n",
    "import sys\n",
    "sys.path.append(\"/Users/sambrown04/Documents/SURF/whillans-surf/notebooks/SURF\")\n",
    "\n",
    "# Imports\n",
    "import os\n",
    "import pandas as pd\n",
    "import numpy as np\n",
    "import matplotlib.pyplot as plt\n",
    "import matplotlib.dates as mdates\n",
    "from scipy.signal import butter, filtfilt\n",
    "from scipy.integrate import simps\n",
    "import scipy.signal\n",
    "\n",
    "from sklearn.model_selection import train_test_split\n",
    "from sklearn.svm import SVC\n",
    "from sklearn.ensemble import RandomForestClassifier\n",
    "from sklearn.preprocessing import StandardScaler\n",
    "from sklearn.metrics import classification_report, confusion_matrix, accuracy_score\n",
    "\n",
    "import my_lib.funcs\n",
    "\n",
    "# Set path to event files\n",
    "evts_path = \"/Users/sambrown04/Documents/SURF/Events/2010_2010Events2stas\" "
   ]
  },
  {
   "cell_type": "markdown",
   "id": "7ee8bd55-242c-45c3-871a-93152a5c88a2",
   "metadata": {},
   "source": [
    "For each event we will want the following features:\n",
    "    - average serverity of the slip (averaged among stations)\n",
    "    - hour of day that the event starts (1-24)\n",
    "    - average station residual for this point"
   ]
  },
  {
   "cell_type": "markdown",
   "id": "11b85c29-62e3-43be-bd80-4fbb0999fe8b",
   "metadata": {},
   "source": [
    "First we need to form a dataframe that has the features (average severity, hour, average station res) and target (pre-slip area) for each event."
   ]
  },
  {
   "cell_type": "code",
   "execution_count": 7,
   "id": "6c8eb92a-b92d-4b9c-a24f-06a408c912d1",
   "metadata": {
    "scrolled": true
   },
   "outputs": [],
   "source": [
    "# storing events in a data frame for use\n",
    "\n",
    "events_list = my_lib.funcs.load_evt(evts_path)"
   ]
  },
  {
   "cell_type": "markdown",
   "id": "05142089-00af-4a7d-9957-99eef6d97747",
   "metadata": {},
   "source": [
    "Now we will preprocess this data "
   ]
  },
  {
   "cell_type": "code",
   "execution_count": 11,
   "id": "591c1a62-3ecb-43da-b4d0-4d2e79e47c7f",
   "metadata": {
    "scrolled": true
   },
   "outputs": [],
   "source": [
    "new_features = my_lib.funcs.extract_event_features(events_list)"
   ]
  },
  {
   "cell_type": "code",
   "execution_count": 13,
   "id": "666d2b2b-6a9d-4985-a756-ce692b226746",
   "metadata": {},
   "outputs": [
    {
     "data": {
      "text/html": [
       "<div>\n",
       "<style scoped>\n",
       "    .dataframe tbody tr th:only-of-type {\n",
       "        vertical-align: middle;\n",
       "    }\n",
       "\n",
       "    .dataframe tbody tr th {\n",
       "        vertical-align: top;\n",
       "    }\n",
       "\n",
       "    .dataframe thead th {\n",
       "        text-align: right;\n",
       "    }\n",
       "</style>\n",
       "<table border=\"1\" class=\"dataframe\">\n",
       "  <thead>\n",
       "    <tr style=\"text-align: right;\">\n",
       "      <th></th>\n",
       "      <th>station</th>\n",
       "      <th>pre-slip_area</th>\n",
       "      <th>slip_severity</th>\n",
       "      <th>peak_time</th>\n",
       "      <th>total_delta</th>\n",
       "    </tr>\n",
       "  </thead>\n",
       "  <tbody>\n",
       "    <tr>\n",
       "      <th>0</th>\n",
       "      <td>la02x</td>\n",
       "      <td>110.442874</td>\n",
       "      <td>1.445604e-06</td>\n",
       "      <td>6975.0</td>\n",
       "      <td>0.454037</td>\n",
       "    </tr>\n",
       "    <tr>\n",
       "      <th>1</th>\n",
       "      <td>la09x</td>\n",
       "      <td>2.173707</td>\n",
       "      <td>2.695754e-07</td>\n",
       "      <td>255.0</td>\n",
       "      <td>0.163290</td>\n",
       "    </tr>\n",
       "  </tbody>\n",
       "</table>\n",
       "</div>"
      ],
      "text/plain": [
       "  station  pre-slip_area  slip_severity  peak_time  total_delta\n",
       "0   la02x     110.442874   1.445604e-06     6975.0     0.454037\n",
       "1   la09x       2.173707   2.695754e-07      255.0     0.163290"
      ]
     },
     "execution_count": 13,
     "metadata": {},
     "output_type": "execute_result"
    }
   ],
   "source": [
    "new_features[1].head(10)\n",
    "# len(new_features)"
   ]
  },
  {
   "cell_type": "code",
   "execution_count": 14,
   "id": "5107abc1-c1ae-46ca-b7ea-09702a3b1b01",
   "metadata": {},
   "outputs": [
    {
     "data": {
      "text/html": [
       "<div>\n",
       "<style scoped>\n",
       "    .dataframe tbody tr th:only-of-type {\n",
       "        vertical-align: middle;\n",
       "    }\n",
       "\n",
       "    .dataframe tbody tr th {\n",
       "        vertical-align: top;\n",
       "    }\n",
       "\n",
       "    .dataframe thead th {\n",
       "        text-align: right;\n",
       "    }\n",
       "</style>\n",
       "<table border=\"1\" class=\"dataframe\">\n",
       "  <thead>\n",
       "    <tr style=\"text-align: right;\">\n",
       "      <th></th>\n",
       "      <th>slip_area</th>\n",
       "      <th>slip_severity</th>\n",
       "      <th>hour</th>\n",
       "      <th>avg_res</th>\n",
       "      <th>target</th>\n",
       "    </tr>\n",
       "  </thead>\n",
       "  <tbody>\n",
       "    <tr>\n",
       "      <th>0</th>\n",
       "      <td>NaN</td>\n",
       "      <td>NaN</td>\n",
       "      <td>NaN</td>\n",
       "      <td>NaN</td>\n",
       "      <td>NaN</td>\n",
       "    </tr>\n",
       "    <tr>\n",
       "      <th>1</th>\n",
       "      <td>NaN</td>\n",
       "      <td>NaN</td>\n",
       "      <td>NaN</td>\n",
       "      <td>NaN</td>\n",
       "      <td>NaN</td>\n",
       "    </tr>\n",
       "    <tr>\n",
       "      <th>2</th>\n",
       "      <td>NaN</td>\n",
       "      <td>NaN</td>\n",
       "      <td>NaN</td>\n",
       "      <td>NaN</td>\n",
       "      <td>NaN</td>\n",
       "    </tr>\n",
       "    <tr>\n",
       "      <th>3</th>\n",
       "      <td>NaN</td>\n",
       "      <td>NaN</td>\n",
       "      <td>NaN</td>\n",
       "      <td>NaN</td>\n",
       "      <td>NaN</td>\n",
       "    </tr>\n",
       "    <tr>\n",
       "      <th>4</th>\n",
       "      <td>NaN</td>\n",
       "      <td>NaN</td>\n",
       "      <td>NaN</td>\n",
       "      <td>NaN</td>\n",
       "      <td>NaN</td>\n",
       "    </tr>\n",
       "  </tbody>\n",
       "</table>\n",
       "</div>"
      ],
      "text/plain": [
       "   slip_area  slip_severity  hour  avg_res  target\n",
       "0        NaN            NaN   NaN      NaN     NaN\n",
       "1        NaN            NaN   NaN      NaN     NaN\n",
       "2        NaN            NaN   NaN      NaN     NaN\n",
       "3        NaN            NaN   NaN      NaN     NaN\n",
       "4        NaN            NaN   NaN      NaN     NaN"
      ]
     },
     "execution_count": 14,
     "metadata": {},
     "output_type": "execute_result"
    }
   ],
   "source": [
    "# Now we have the new_features list. To create a data set that we can train and test on, we need to summarize these values for each event. That is, we need to average the slip area and severity for each event.\n",
    "df_model = pd.DataFrame(\n",
    "    data = np.nan,\n",
    "    index = range(len(new_features)),\n",
    "    columns=['slip_area','slip_severity','hour', 'avg_res', 'target']\n",
    ")\n",
    "\n",
    "df_model.head()"
   ]
  },
  {
   "cell_type": "code",
   "execution_count": 15,
   "id": "d991b207-1eed-4457-811c-de77efa2b46f",
   "metadata": {},
   "outputs": [],
   "source": [
    "for i, features in enumerate(new_features): # Add the mean area and severity to our data frame\n",
    "    df_model.loc[i, 'slip_area'] = features['pre-slip_area'].mean()\n",
    "    df_model.loc[i, 'slip_severity'] = features['slip_severity'].mean()"
   ]
  },
  {
   "cell_type": "code",
   "execution_count": 16,
   "id": "45697460-5955-498d-b43f-4134ae0103e1",
   "metadata": {},
   "outputs": [
    {
     "data": {
      "text/plain": [
       "Text(0, 0.5, 'slip severity (2nd deriv)')"
      ]
     },
     "execution_count": 16,
     "metadata": {},
     "output_type": "execute_result"
    },
    {
     "data": {
      "image/png": "[encoded data removed]",
      "text/plain": [
       "<Figure size 640x480 with 1 Axes>"
      ]
     },
     "metadata": {},
     "output_type": "display_data"
    }
   ],
   "source": [
    "plt.scatter(df_model['slip_area'], df_model['slip_severity'])\n",
    "plt.xlabel('pre-slip area')\n",
    "plt.ylabel('slip severity (2nd deriv)')"
   ]
  },
  {
   "cell_type": "markdown",
   "id": "ea1a60a1-42c5-4175-b419-fae9ba134d57",
   "metadata": {},
   "source": [
    "Now we just need to add the hour of day to each event, the average residual for the event, and encode a 0 or 1 for a small vs large slip area. "
   ]
  },
  {
   "cell_type": "code",
   "execution_count": 18,
   "id": "857371d2-cf5c-4384-9b4b-62f28022f2b5",
   "metadata": {},
   "outputs": [
    {
     "data": {
      "text/html": [
       "<div>\n",
       "<style scoped>\n",
       "    .dataframe tbody tr th:only-of-type {\n",
       "        vertical-align: middle;\n",
       "    }\n",
       "\n",
       "    .dataframe tbody tr th {\n",
       "        vertical-align: top;\n",
       "    }\n",
       "\n",
       "    .dataframe thead th {\n",
       "        text-align: right;\n",
       "    }\n",
       "</style>\n",
       "<table border=\"1\" class=\"dataframe\">\n",
       "  <thead>\n",
       "    <tr style=\"text-align: right;\">\n",
       "      <th></th>\n",
       "      <th>slip_area</th>\n",
       "      <th>slip_severity</th>\n",
       "      <th>hour</th>\n",
       "      <th>avg_res</th>\n",
       "      <th>target</th>\n",
       "    </tr>\n",
       "  </thead>\n",
       "  <tbody>\n",
       "    <tr>\n",
       "      <th>0</th>\n",
       "      <td>155.048268</td>\n",
       "      <td>5.582876e-07</td>\n",
       "      <td>NaN</td>\n",
       "      <td>NaN</td>\n",
       "      <td>NaN</td>\n",
       "    </tr>\n",
       "    <tr>\n",
       "      <th>1</th>\n",
       "      <td>56.308290</td>\n",
       "      <td>8.575898e-07</td>\n",
       "      <td>NaN</td>\n",
       "      <td>NaN</td>\n",
       "      <td>NaN</td>\n",
       "    </tr>\n",
       "    <tr>\n",
       "      <th>2</th>\n",
       "      <td>89.240155</td>\n",
       "      <td>4.914228e-07</td>\n",
       "      <td>NaN</td>\n",
       "      <td>NaN</td>\n",
       "      <td>NaN</td>\n",
       "    </tr>\n",
       "    <tr>\n",
       "      <th>3</th>\n",
       "      <td>172.138300</td>\n",
       "      <td>8.740249e-07</td>\n",
       "      <td>NaN</td>\n",
       "      <td>NaN</td>\n",
       "      <td>NaN</td>\n",
       "    </tr>\n",
       "    <tr>\n",
       "      <th>4</th>\n",
       "      <td>119.256765</td>\n",
       "      <td>4.746864e-07</td>\n",
       "      <td>NaN</td>\n",
       "      <td>NaN</td>\n",
       "      <td>NaN</td>\n",
       "    </tr>\n",
       "  </tbody>\n",
       "</table>\n",
       "</div>"
      ],
      "text/plain": [
       "    slip_area  slip_severity  hour  avg_res  target\n",
       "0  155.048268   5.582876e-07   NaN      NaN     NaN\n",
       "1   56.308290   8.575898e-07   NaN      NaN     NaN\n",
       "2   89.240155   4.914228e-07   NaN      NaN     NaN\n",
       "3  172.138300   8.740249e-07   NaN      NaN     NaN\n",
       "4  119.256765   4.746864e-07   NaN      NaN     NaN"
      ]
     },
     "execution_count": 18,
     "metadata": {},
     "output_type": "execute_result"
    }
   ],
   "source": [
    "# Add hour of day to each event\n",
    "df_model.head()"
   ]
  },
  {
   "cell_type": "code",
   "execution_count": 19,
   "id": "5f2299b3-2ae1-47b2-afc1-3a148457eb30",
   "metadata": {},
   "outputs": [],
   "source": [
    "start_times = [] # Define start times\n",
    "for event in events_list:\n",
    "    start_times.append(event['time'][0])"
   ]
  },
  {
   "cell_type": "code",
   "execution_count": 20,
   "id": "bf03dacb-10e4-461e-8c1f-155a8b0eaa57",
   "metadata": {},
   "outputs": [],
   "source": [
    "# Put start times into data frame\n",
    "start_times_dt = pd.to_datetime(start_times)\n",
    "start_hours = start_times_dt.hour\n",
    "df_model['hour'] = start_hours"
   ]
  },
  {
   "cell_type": "code",
   "execution_count": 21,
   "id": "c29c9a15-05fd-4b0e-bb50-17b306df30d2",
   "metadata": {},
   "outputs": [],
   "source": [
    "df_model['target'] = (df_model['slip_area'] > 200).astype(int) # Encode the target variable"
   ]
  },
  {
   "cell_type": "markdown",
   "id": "978d6eb7-266a-4059-bb5e-91bced10ff99",
   "metadata": {},
   "source": [
    "Random Forest, SVM"
   ]
  },
  {
   "cell_type": "code",
   "execution_count": 23,
   "id": "b9cd38ab-88b7-44cc-8a85-57a394a0cbc9",
   "metadata": {},
   "outputs": [],
   "source": [
    "X = df_model[['slip_severity', 'hour']]\n",
    "y = df_model['target']"
   ]
  },
  {
   "cell_type": "code",
   "execution_count": 24,
   "id": "291f251a-93f4-4d1e-b8da-6121d040f655",
   "metadata": {},
   "outputs": [],
   "source": [
    "scaler = StandardScaler()\n",
    "X_scaled = scaler.fit_transform(X)"
   ]
  },
  {
   "cell_type": "code",
   "execution_count": 25,
   "id": "6b1e188a-f9d7-480a-9563-c90708414a00",
   "metadata": {},
   "outputs": [],
   "source": [
    "X_train, X_test, y_train, y_test = train_test_split(X, y, test_size=0.3, random_state=42)"
   ]
  },
  {
   "cell_type": "code",
   "execution_count": 26,
   "id": "2821eb88-d6bb-4e72-91f1-afdc56626fd0",
   "metadata": {},
   "outputs": [
    {
     "data": {
      "text/html": [
       "<style>#sk-container-id-1 {color: black;}#sk-container-id-1 pre{padding: 0;}#sk-container-id-1 div.sk-toggleable {background-color: white;}#sk-container-id-1 label.sk-toggleable__label {cursor: pointer;display: block;width: 100%;margin-bottom: 0;padding: 0.3em;box-sizing: border-box;text-align: center;}#sk-container-id-1 label.sk-toggleable__label-arrow:before {content: \"▸\";float: left;margin-right: 0.25em;color: #696969;}#sk-container-id-1 label.sk-toggleable__label-arrow:hover:before {color: black;}#sk-container-id-1 div.sk-estimator:hover label.sk-toggleable__label-arrow:before {color: black;}#sk-container-id-1 div.sk-toggleable__content {max-height: 0;max-width: 0;overflow: hidden;text-align: left;background-color: #f0f8ff;}#sk-container-id-1 div.sk-toggleable__content pre {margin: 0.2em;color: black;border-radius: 0.25em;background-color: #f0f8ff;}#sk-container-id-1 input.sk-toggleable__control:checked~div.sk-toggleable__content {max-height: 200px;max-width: 100%;overflow: auto;}#sk-container-id-1 input.sk-toggleable__control:checked~label.sk-toggleable__label-arrow:before {content: \"▾\";}#sk-container-id-1 div.sk-estimator input.sk-toggleable__control:checked~label.sk-toggleable__label {background-color: #d4ebff;}#sk-container-id-1 div.sk-label input.sk-toggleable__control:checked~label.sk-toggleable__label {background-color: #d4ebff;}#sk-container-id-1 input.sk-hidden--visually {border: 0;clip: rect(1px 1px 1px 1px);clip: rect(1px, 1px, 1px, 1px);height: 1px;margin: -1px;overflow: hidden;padding: 0;position: absolute;width: 1px;}#sk-container-id-1 div.sk-estimator {font-family: monospace;background-color: #f0f8ff;border: 1px dotted black;border-radius: 0.25em;box-sizing: border-box;margin-bottom: 0.5em;}#sk-container-id-1 div.sk-estimator:hover {background-color: #d4ebff;}#sk-container-id-1 div.sk-parallel-item::after {content: \"\";width: 100%;border-bottom: 1px solid gray;flex-grow: 1;}#sk-container-id-1 div.sk-label:hover label.sk-toggleable__label {background-color: #d4ebff;}#sk-container-id-1 div.sk-serial::before {content: \"\";position: absolute;border-left: 1px solid gray;box-sizing: border-box;top: 0;bottom: 0;left: 50%;z-index: 0;}#sk-container-id-1 div.sk-serial {display: flex;flex-direction: column;align-items: center;background-color: white;padding-right: 0.2em;padding-left: 0.2em;position: relative;}#sk-container-id-1 div.sk-item {position: relative;z-index: 1;}#sk-container-id-1 div.sk-parallel {display: flex;align-items: stretch;justify-content: center;background-color: white;position: relative;}#sk-container-id-1 div.sk-item::before, #sk-container-id-1 div.sk-parallel-item::before {content: \"\";position: absolute;border-left: 1px solid gray;box-sizing: border-box;top: 0;bottom: 0;left: 50%;z-index: -1;}#sk-container-id-1 div.sk-parallel-item {display: flex;flex-direction: column;z-index: 1;position: relative;background-color: white;}#sk-container-id-1 div.sk-parallel-item:first-child::after {align-self: flex-end;width: 50%;}#sk-container-id-1 div.sk-parallel-item:last-child::after {align-self: flex-start;width: 50%;}#sk-container-id-1 div.sk-parallel-item:only-child::after {width: 0;}#sk-container-id-1 div.sk-dashed-wrapped {border: 1px dashed gray;margin: 0 0.4em 0.5em 0.4em;box-sizing: border-box;padding-bottom: 0.4em;background-color: white;}#sk-container-id-1 div.sk-label label {font-family: monospace;font-weight: bold;display: inline-block;line-height: 1.2em;}#sk-container-id-1 div.sk-label-container {text-align: center;}#sk-container-id-1 div.sk-container {/* jupyter's `normalize.less` sets `[hidden] { display: none; }` but bootstrap.min.css set `[hidden] { display: none !important; }` so we also need the `!important` here to be able to override the default hidden behavior on the sphinx rendered scikit-learn.org. See: https://github.com/scikit-learn/scikit-learn/issues/21755 */display: inline-block !important;position: relative;}#sk-container-id-1 div.sk-text-repr-fallback {display: none;}</style><div id=\"sk-container-id-1\" class=\"sk-top-container\"><div class=\"sk-text-repr-fallback\"><pre>RandomForestClassifier(class_weight=&#x27;balanced&#x27;, random_state=42)</pre><b>In a Jupyter environment, please rerun this cell to show the HTML representation or trust the notebook. <br />On GitHub, the HTML representation is unable to render, please try loading this page with nbviewer.org.</b></div><div class=\"sk-container\" hidden><div class=\"sk-item\"><div class=\"sk-estimator sk-toggleable\"><input class=\"sk-toggleable__control sk-hidden--visually\" id=\"sk-estimator-id-1\" type=\"checkbox\" checked><label for=\"sk-estimator-id-1\" class=\"sk-toggleable__label sk-toggleable__label-arrow\">RandomForestClassifier</label><div class=\"sk-toggleable__content\"><pre>RandomForestClassifier(class_weight=&#x27;balanced&#x27;, random_state=42)</pre></div></div></div></div></div>"
      ],
      "text/plain": [
       "RandomForestClassifier(class_weight='balanced', random_state=42)"
      ]
     },
     "execution_count": 26,
     "metadata": {},
     "output_type": "execute_result"
    }
   ],
   "source": [
    "rf_model = RandomForestClassifier(class_weight='balanced', n_estimators=100, random_state=42)\n",
    "rf_model.fit(X_train, y_train)"
   ]
  },
  {
   "cell_type": "code",
   "execution_count": 27,
   "id": "d0aff25d-7b9c-45d3-9e18-9d59f8a2e489",
   "metadata": {},
   "outputs": [
    {
     "name": "stdout",
     "output_type": "stream",
     "text": [
      "Confusion Matrix:\n",
      " [[105  30]\n",
      " [ 11  13]]\n",
      "\n",
      "Classification Report:\n",
      "               precision    recall  f1-score   support\n",
      "\n",
      "           0       0.91      0.78      0.84       135\n",
      "           1       0.30      0.54      0.39        24\n",
      "\n",
      "    accuracy                           0.74       159\n",
      "   macro avg       0.60      0.66      0.61       159\n",
      "weighted avg       0.81      0.74      0.77       159\n",
      "\n",
      "Accuracy Score: 0.7421383647798742\n"
     ]
    }
   ],
   "source": [
    "y_pred = rf_model.predict(X_test)\n",
    "\n",
    "# 7. Evaluate the results\n",
    "print(\"Confusion Matrix:\\n\", confusion_matrix(y_test, y_pred))\n",
    "print(\"\\nClassification Report:\\n\", classification_report(y_test, y_pred))\n",
    "print(\"Accuracy Score:\", accuracy_score(y_test, y_pred))"
   ]
  }
 ],
 "metadata": {
  "kernelspec": {
   "display_name": "Python [conda env:base] *",
   "language": "python",
   "name": "conda-base-py"
  },
  "language_info": {
   "codemirror_mode": {
    "name": "ipython",
    "version": 3
   },
   "file_extension": ".py",
   "mimetype": "text/x-python",
   "name": "python",
   "nbconvert_exporter": "python",
   "pygments_lexer": "ipython3",
   "version": "3.12.2"
  }
 },
 "nbformat": 4,
 "nbformat_minor": 5
}
