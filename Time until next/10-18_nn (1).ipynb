{
 "cells": [
  {
   "cell_type": "code",
   "execution_count": 50,
   "id": "5c39dd05-67c5-4fc7-9ea0-f5e0c15e16cd",
   "metadata": {},
   "outputs": [],
   "source": [
    "# Sam Brown\n",
    "# sam_brown@mines.edu\n",
    "# June 26 2025\n",
    "# Goal: Use new inter-event features calculations to predict time since for events. Not entirely practical but useful for understanding of data\n",
    "\n",
    "# Directory\n",
    "import sys\n",
    "sys.path.append(\"/Users/sambrown04/Documents/SURF/whillans-surf/notebooks/SURF\")\n",
    "\n",
    "# Imports\n",
    "import pandas as pd\n",
    "import torch\n",
    "import torch.nn as nn\n",
    "import torch.optim as optim\n",
    "from sklearn.model_selection import train_test_split\n",
    "from sklearn.preprocessing import StandardScaler\n",
    "from sklearn.metrics import r2_score\n",
    "\n",
    "df = pd.read_csv(\"/Users/sambrown04/Documents/SURF/Preproc_data/upd10-18.csv\")\n",
    "df = df[508:3000] # Avoid \"dark spots\" for now"
   ]
  },
  {
   "cell_type": "code",
   "execution_count": 82,
   "id": "629ddfbf-e48d-45a1-b70c-f3e1c1b80aa4",
   "metadata": {},
   "outputs": [],
   "source": [
    "# Features and target\n",
    "X = df[['tide_deriv', 'tide_height', 'A_diurn', 'A_semidiurn','disp_standardized', 'r2_standardized', 'slope_standardized']]\n",
    "y = df['time_since']\n",
    "\n",
    "# Split\n",
    "X_train, X_test, y_train, y_test = train_test_split(X, y , test_size = .2, random_state = 42)\n",
    "\n",
    "# Standardize\n",
    "x_scaler = StandardScaler()\n",
    "X_train_scaled = x_scaler.fit_transform(X_train)\n",
    "X_test_scaled = x_scaler.transform(X_test)\n",
    "\n",
    "y_scaler = StandardScaler()\n",
    "y_train_scaled = y_scaler.fit_transform(y_train.values.reshape(-1, 1))\n",
    "y_test_scaled = y_scaler.transform(y_test.values.reshape(-1, 1))\n",
    "\n",
    "# Pytorch tensors \n",
    "X_train_tensor = torch.tensor(X_train_scaled, dtype=torch.float32)\n",
    "y_train_tensor = torch.tensor(y_train_scaled, dtype=torch.float32)\n",
    "\n",
    "X_test_tensor = torch.tensor(X_test_scaled, dtype=torch.float32)\n",
    "y_test_tensor = torch.tensor(y_test_scaled, dtype=torch.float32)"
   ]
  },
  {
   "cell_type": "code",
   "execution_count": 84,
   "id": "3b1212c5-ec3f-4926-9bbb-961162c3a9c3",
   "metadata": {},
   "outputs": [],
   "source": [
    "# Neural Net\n",
    "class Net(nn.Module):\n",
    "    def __init__(self):\n",
    "        super(Net, self).__init__()\n",
    "        self.fc1 = nn.Linear(7, 24)\n",
    "        self.fc2 = nn.Linear(24, 12)\n",
    "        self.fc3 = nn.Linear(12,1)\n",
    "\n",
    "    def forward(self,x):\n",
    "        x = torch.relu(self.fc1(x))\n",
    "        x = torch.relu(self.fc2(x))\n",
    "        x = self.fc3(x) # Regressing\n",
    "        return x"
   ]
  },
  {
   "cell_type": "code",
   "execution_count": 86,
   "id": "560cf792-729a-41a0-93ed-6a2c5589f0aa",
   "metadata": {},
   "outputs": [
    {
     "name": "stdout",
     "output_type": "stream",
     "text": [
      "Epoch [20/400], Loss: 0.1437\n",
      "Epoch [40/400], Loss: 0.0537\n",
      "Epoch [60/400], Loss: 0.0382\n",
      "Epoch [80/400], Loss: 0.0303\n",
      "Epoch [100/400], Loss: 0.0252\n",
      "Epoch [120/400], Loss: 0.0196\n",
      "Epoch [140/400], Loss: 0.0152\n",
      "Epoch [160/400], Loss: 0.0124\n",
      "Epoch [180/400], Loss: 0.0105\n",
      "Epoch [200/400], Loss: 0.0092\n",
      "Epoch [220/400], Loss: 0.0083\n",
      "Epoch [240/400], Loss: 0.0077\n",
      "Epoch [260/400], Loss: 0.0073\n",
      "Epoch [280/400], Loss: 0.0070\n",
      "Epoch [300/400], Loss: 0.0067\n",
      "Epoch [320/400], Loss: 0.0065\n",
      "Epoch [340/400], Loss: 0.0063\n",
      "Epoch [360/400], Loss: 0.0061\n",
      "Epoch [380/400], Loss: 0.0059\n",
      "Epoch [400/400], Loss: 0.0057\n"
     ]
    }
   ],
   "source": [
    "model = Net()\n",
    "criterion = nn.MSELoss() # Loss for regression\n",
    "optimizer = optim.Adam(model.parameters(), lr = .01)\n",
    "\n",
    "# Training loop\n",
    "epochs = 400\n",
    "for epoch in range(epochs):\n",
    "    model.train()\n",
    "    optimizer.zero_grad() # Clears grad\n",
    "\n",
    "    # Predictions and loss\n",
    "    outputs = model(X_train_tensor)\n",
    "    loss = criterion(outputs, y_train_tensor)\n",
    "\n",
    "    # Backprop\n",
    "    loss.backward()\n",
    "\n",
    "    # Update params\n",
    "    optimizer.step()\n",
    "    \n",
    "    if (epoch+1) % 20 == 0:\n",
    "        print(f'Epoch [{epoch+1}/{epochs}], Loss: {loss.item():.4f}')"
   ]
  },
  {
   "cell_type": "code",
   "execution_count": 88,
   "id": "1eeda992-ed4b-4977-aa9e-4978dd85485e",
   "metadata": {},
   "outputs": [
    {
     "name": "stdout",
     "output_type": "stream",
     "text": [
      "0.9495849013328552\n"
     ]
    }
   ],
   "source": [
    "model.eval()\n",
    "with torch.no_grad():\n",
    "    y_pred_scaled = model(X_test_tensor)\n",
    "    y_pred = y_scaler.inverse_transform(y_pred_scaled.numpy())\n",
    "    y_test_orig = y_scaler.inverse_transform(y_test_tensor.numpy())\n",
    "\n",
    "r2 = r2_score(y_test_orig, y_pred)\n",
    "print(r2)"
   ]
  }
 ],
 "metadata": {
  "kernelspec": {
   "display_name": "Python [conda env:base] *",
   "language": "python",
   "name": "conda-base-py"
  },
  "language_info": {
   "codemirror_mode": {
    "name": "ipython",
    "version": 3
   },
   "file_extension": ".py",
   "mimetype": "text/x-python",
   "name": "python",
   "nbconvert_exporter": "python",
   "pygments_lexer": "ipython3",
   "version": "3.12.2"
  }
 },
 "nbformat": 4,
 "nbformat_minor": 5
}
