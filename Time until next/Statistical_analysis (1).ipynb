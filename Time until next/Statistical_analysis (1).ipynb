{
 "cells": [
  {
   "cell_type": "code",
   "execution_count": 4,
   "id": "0d6a86af-c9c5-426b-9778-9eecb2cfe263",
   "metadata": {},
   "outputs": [
    {
     "name": "stderr",
     "output_type": "stream",
     "text": [
      "Error importing in API mode: ImportError(\"dlopen(/opt/anaconda3/lib/python3.12/site-packages/_rinterface_cffi_api.abi3.so, 0x0002): Library not loaded: /Library/Frameworks/R.framework/Versions/4.5-arm64/Resources/lib/libRblas.dylib\\n  Referenced from: <733B2185-C608-342F-8FC5-CF619524A0A2> /opt/anaconda3/lib/python3.12/site-packages/_rinterface_cffi_api.abi3.so\\n  Reason: tried: '/Library/Frameworks/R.framework/Versions/4.5-arm64/Resources/lib/libRblas.dylib' (no such file), '/System/Volumes/Preboot/Cryptexes/OS/Library/Frameworks/R.framework/Versions/4.5-arm64/Resources/lib/libRblas.dylib' (no such file), '/Library/Frameworks/R.framework/Versions/4.5-arm64/Resources/lib/libRblas.dylib' (no such file)\")\n",
      "Trying to import in ABI mode.\n",
      "/opt/anaconda3/lib/python3.12/site-packages/rpy2/rinterface/__init__.py:1211: UserWarning: Environment variable \"PWD\" redefined by R and overriding existing variable. Current: \"/Users/sambrown04/Documents/SURF/whillans-surf\", R: \"/Users/sambrown04/Documents/SURF/whillans-surf/notebooks/SURF/Time until next evt prediction\"\n",
      "  warnings.warn(\n"
     ]
    },
    {
     "name": "stdout",
     "output_type": "stream",
     "text": [
      "\n",
      "Call:\n",
      "lm(formula = mins_until ~ mins_since + tide_change + tide_height + \n",
      "    h_event + form_factor + slip_severity + total_delta + pre_slip_area, \n",
      "    data = data)\n",
      "\n",
      "Residuals:\n",
      "    Min      1Q  Median      3Q     Max \n",
      "-738.03 -232.82  -70.52  303.12  949.91 \n",
      "\n",
      "Coefficients:\n",
      "                Estimate Std. Error t value Pr(>|t|)    \n",
      "(Intercept)    8.142e+02  6.322e+01  12.879  < 2e-16 ***\n",
      "mins_since    -1.854e-01  8.593e-02  -2.157  0.03113 *  \n",
      "tide_change   -1.711e+02  6.599e+01  -2.593  0.00961 ** \n",
      "tide_height    1.370e+00  3.492e-01   3.922 9.13e-05 ***\n",
      "h_event        3.522e+01  3.070e+01   1.147  0.25141    \n",
      "form_factor    9.876e+00  1.643e+00   6.010 2.29e-09 ***\n",
      "slip_severity  2.935e+08  4.238e+07   6.927 6.18e-12 ***\n",
      "total_delta   -1.248e+02  3.276e+02  -0.381  0.70321    \n",
      "pre_slip_area  1.098e-01  1.002e-01"
     ]
    },
    {
     "name": "stderr",
     "output_type": "stream",
     "text": [
      "/opt/anaconda3/lib/python3.12/site-packages/rpy2/rinterface/__init__.py:1211: UserWarning: Environment variable \"R_SESSION_TMPDIR\" redefined by R and overriding existing variable. Current: \"/var/folders/zg/jhrvqkbd33x0c7lyzw9rdfsc0000gn/T//RtmpktZsES\", R: \"/var/folders/zg/jhrvqkbd33x0c7lyzw9rdfsc0000gn/T//RtmpCthNgB\"\n",
      "  warnings.warn(\n"
     ]
    },
    {
     "name": "stdout",
     "output_type": "stream",
     "text": [
      "   1.097  0.27293    \n",
      "---\n",
      "Signif. codes:  0 ‘***’ 0.001 ‘**’ 0.01 ‘*’ 0.05 ‘.’ 0.1 ‘ ’ 1\n",
      "\n",
      "Residual standard error: 310.9 on 1633 degrees of freedom\n",
      "Multiple R-squared:  0.06269,\tAdjusted R-squared:  0.0581 \n",
      "F-statistic: 13.65 on 8 and 1633 DF,  p-value: < 2.2e-16\n",
      "\n"
     ]
    }
   ],
   "source": [
    "import pandas as pd\n",
    "from rpy2.robjects import r, pandas2ri\n",
    "import rpy2.robjects as ro\n",
    "from rpy2.robjects.conversion import localconverter\n",
    "\n",
    "# Load and clean data\n",
    "df = pd.read_csv(\"/Users/sambrown04/Documents/SURF/whillans-surf/notebooks/SURF/neural_nets/averages_events_2011-13.csv\", parse_dates=[\"start_time\"])\n",
    "df = df.iloc[1:]  # Drop header \n",
    "\n",
    "# Keep only selected columns\n",
    "columns_needed = [\n",
    "    'mins_since', 'tide_change', 'tide_height', 'h_event',\n",
    "    'form_factor', 'slip_severity', 'total_delta', 'pre_slip_area', 'mins_until'\n",
    "]\n",
    "df = df[columns_needed].dropna()\n",
    "\n",
    "# Pass to R\n",
    "with localconverter(ro.default_converter + pandas2ri.converter):\n",
    "    r_df = ro.conversion.py2rpy(df)\n",
    "\n",
    "ro.globalenv[\"data\"] = r_df\n",
    "\n",
    "# Run linear regression in R with specified predictors\n",
    "r('model <- lm(mins_until ~ mins_since + tide_change + tide_height + h_event + form_factor + slip_severity + total_delta + pre_slip_area, data=data)')\n",
    "r('summary_output <- summary(model)')\n",
    "r('print(summary_output)')\n"
   ]
  },
  {
   "cell_type": "markdown",
   "id": "d671d6bc-05c3-4dc6-87f2-597b28f4f28b",
   "metadata": {},
   "source": [
    "Interesting... Tide_h, form_factor, slip_sev all seem to be most significant. Slip severity seems to be a good predictor. I am unsure why. Overall, very bad model"
   ]
  },
  {
   "cell_type": "code",
   "execution_count": 6,
   "id": "7010a2d2-f366-4b42-8d92-9a80dd2537a6",
   "metadata": {},
   "outputs": [
    {
     "name": "stdout",
     "output_type": "stream",
     "text": [
      "\n",
      "Call:\n",
      "lm(formula = mins_until ~ slip_severity, data = data)\n",
      "\n",
      "Residuals:\n",
      "    Min      1Q  Median      3Q     Max \n",
      "-559.45 -245.26  -89.02  305.61  915.58 \n",
      "\n",
      "Coefficients:\n",
      "               Estimate Std. Error t value Pr(>|t|)    \n",
      "(Intercept)   8.350e+02  2.411e+01  34.633  < 2e-16 ***\n",
      "slip_severity 1.361e+08  2.662e+07   5.114 3.53e-07 ***\n",
      "---\n",
      "Signif. codes:  0 ‘***’ 0.001 ‘**’ 0.01 ‘*’ 0.05 ‘.’ 0.1 ‘ ’ 1\n",
      "\n",
      "Residual standard error: 317.9 on 1640 degrees of freedom\n",
      "Multiple R-squared:  0.01569,\tAdjusted R-squared:  0.01509 \n",
      "F-statistic: 26.15 on 1 and 1640 DF,  p-value: 3.531e-07\n",
      "\n"
     ]
    }
   ],
   "source": [
    "r('model <- lm(mins_until ~ slip_severity, data=data)')\n",
    "r('summary_output <- summary(model)')\n",
    "r('print(summary_output)')\n"
   ]
  },
  {
   "cell_type": "code",
   "execution_count": null,
   "id": "7c8fc793-26ab-40a8-a313-0345c81f8cfb",
   "metadata": {},
   "outputs": [],
   "source": []
  }
 ],
 "metadata": {
  "kernelspec": {
   "display_name": "Python [conda env:base] *",
   "language": "python",
   "name": "conda-base-py"
  },
  "language_info": {
   "codemirror_mode": {
    "name": "ipython",
    "version": 3
   },
   "file_extension": ".py",
   "mimetype": "text/x-python",
   "name": "python",
   "nbconvert_exporter": "python",
   "pygments_lexer": "ipython3",
   "version": "3.12.2"
  }
 },
 "nbformat": 4,
 "nbformat_minor": 5
}
